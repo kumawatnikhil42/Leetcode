{
 "cells": [
  {
   "cell_type": "code",
   "execution_count": 51,
   "id": "e5c19ed9",
   "metadata": {},
   "outputs": [],
   "source": [
    "class Solution:\n",
    "    def licenseKeyFormatting(self, s: str, k: int) -> str:\n",
    "        ss=s.replace(\"-\",\"\")\n",
    "        l=[]\n",
    "        for i in range(len(ss)-1,-1,-1):\n",
    "            l.append(ss[i].upper())\n",
    "            if (len(l)%(k+1))==k and i!=0:\n",
    "                l.append(\"-\")\n",
    "        return \"\".join(l[::-1])\n",
    "  "
   ]
  },
  {
   "cell_type": "code",
   "execution_count": 96,
   "id": "f6b7889f",
   "metadata": {},
   "outputs": [],
   "source": [
    "class Solution:\n",
    "    def findWords(self, words: List[str]) -> List[str]:\n",
    "            ans = []\n",
    "            rows = [set('qwertyuiop'), set('asdfghjkl'), set('zxcvbnm')]\n",
    "\n",
    "            for word in words:\n",
    "                lowerWord = set(word.lower())\n",
    "                if any(lowerWord <= row for row in rows):\n",
    "                    ans.append(word)\n",
    "            return ans\n"
   ]
  },
  {
   "cell_type": "code",
   "execution_count": 97,
   "id": "4c0f2304",
   "metadata": {},
   "outputs": [],
   "source": [
    "class Solution:\n",
    "    def detectCapitalUse(self, word: str) -> bool:\n",
    "        c=0\n",
    "        for i in word:\n",
    "            if i.isupper():\n",
    "                c+=1\n",
    "        if c==0 or c==len(word) or (word[0].isupper() and c==1):\n",
    "            return True"
   ]
  },
  {
   "cell_type": "code",
   "execution_count": 115,
   "id": "7915cb1c",
   "metadata": {},
   "outputs": [],
   "source": [
    "class Solution:\n",
    "    def findLUSlength(self, a: str, b: str) -> int:\n",
    "        n = len(a)\n",
    "        m =len(b)\n",
    "        ans = 0\n",
    "\n",
    "        if a== b:\n",
    "            ans =  -1\n",
    "        elif (n >m):\n",
    "            ans = n\n",
    "        else:\n",
    "            ans = m\n",
    "        return ans "
   ]
  },
  {
   "cell_type": "code",
   "execution_count": null,
   "id": "e2095690",
   "metadata": {},
   "outputs": [],
   "source": []
  }
 ],
 "metadata": {
  "kernelspec": {
   "display_name": "Python 3 (ipykernel)",
   "language": "python",
   "name": "python3"
  },
  "language_info": {
   "codemirror_mode": {
    "name": "ipython",
    "version": 3
   },
   "file_extension": ".py",
   "mimetype": "text/x-python",
   "name": "python",
   "nbconvert_exporter": "python",
   "pygments_lexer": "ipython3",
   "version": "3.11.5"
  }
 },
 "nbformat": 4,
 "nbformat_minor": 5
}
