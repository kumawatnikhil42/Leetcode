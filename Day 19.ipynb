{
 "cells": [
  {
   "cell_type": "code",
   "execution_count": 58,
   "id": "ff8dad61",
   "metadata": {},
   "outputs": [],
   "source": [
    "class Solution:\n",
    "    def findRestaurant(self, list1: List[str], list2: List[str]) -> List[str]:\n",
    "        l=[]\n",
    "        k=len(list1)+len(list2)\n",
    "        for i in range(len(list1)):\n",
    "            if list1[i] in list2:\n",
    "                j=list2.index(list1[i])\n",
    "                if i+j <k:\n",
    "                    k=i+j\n",
    "                    l=[list1[i]]\n",
    "                elif i+j == k:\n",
    "                    l.append(list2[j])\n",
    "        return l\n",
    "\n",
    "\n"
   ]
  },
  {
   "cell_type": "code",
   "execution_count": 91,
   "id": "23c41bc0",
   "metadata": {},
   "outputs": [],
   "source": [
    "class Solution:\n",
    "    def validPalindrome(self, s: str) -> bool:\n",
    "        def check(left,right):\n",
    "            \n",
    "            while left < right:\n",
    "                if s[left] != s[right]:\n",
    "                    return False\n",
    "                left += 1\n",
    "                right-=1\n",
    "            return True\n",
    "        left, right = 0, len(s) - 1\n",
    "        while left<right:\n",
    "            if s[left]!=s[right]:\n",
    "                return check(left+1,right) or check(left,right-1)\n",
    "            left+=1\n",
    "            right-=1\n",
    "        return True"
   ]
  },
  {
   "cell_type": "code",
   "execution_count": 92,
   "id": "5d29e6d3",
   "metadata": {},
   "outputs": [],
   "source": [
    "class Solution:\n",
    "    def toLowerCase(self, s: str) -> str:\n",
    "        return s.lower()"
   ]
  },
  {
   "cell_type": "code",
   "execution_count": 134,
   "id": "f74a976e",
   "metadata": {},
   "outputs": [],
   "source": [
    "class Solution:\n",
    "    def shortestCompletingWord(self, licensePlate: str, words: List[str]) -> str:\n",
    "        c=Counter(i.lower() for i in licensePlate if i.isalpha())\n",
    "        s=None\n",
    "        for i in words:\n",
    "            d=Counter(i)\n",
    "            valid=True\n",
    "            for j,k in c.items():\n",
    "                if d[j]<k:\n",
    "                    valid=False\n",
    "                    break\n",
    "            if valid:\n",
    "                if s is None or len(i)<len(s):\n",
    "                    s=i\n",
    "        return s"
   ]
  },
  {
   "cell_type": "code",
   "execution_count": null,
   "id": "a3c81965",
   "metadata": {},
   "outputs": [],
   "source": []
  }
 ],
 "metadata": {
  "kernelspec": {
   "display_name": "Python 3 (ipykernel)",
   "language": "python",
   "name": "python3"
  },
  "language_info": {
   "codemirror_mode": {
    "name": "ipython",
    "version": 3
   },
   "file_extension": ".py",
   "mimetype": "text/x-python",
   "name": "python",
   "nbconvert_exporter": "python",
   "pygments_lexer": "ipython3",
   "version": "3.11.5"
  }
 },
 "nbformat": 4,
 "nbformat_minor": 5
}
