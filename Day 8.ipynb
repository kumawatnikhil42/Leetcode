{
 "cells": [
  {
   "cell_type": "code",
   "execution_count": 18,
   "id": "df8acadb",
   "metadata": {},
   "outputs": [],
   "source": [
    "class Solution:\n",
    "    def isAnagram(self, s: str, t: str) -> bool:\n",
    "        st = {}\n",
    "        ts = {}\n",
    "        if len(s) == len(t):\n",
    "\n",
    "            for char in s.lower():\n",
    "                if char in st:\n",
    "                    st[char] += 1\n",
    "                else:\n",
    "                    st[char] = 1\n",
    "    \n",
    "\n",
    "            for char in t.lower():\n",
    "                if char in ts:\n",
    "                    ts[char] += 1\n",
    "                else:\n",
    "                    ts[char] = 1\n",
    "    \n",
    "            if st == ts:\n",
    "                return True\n",
    "            else:\n",
    "                return False\n"
   ]
  },
  {
   "cell_type": "code",
   "execution_count": 19,
   "id": "eeace3f2",
   "metadata": {},
   "outputs": [],
   "source": [
    "class Solution:\n",
    "    def wordPattern(self, pattern: str, s: str) -> bool:\n",
    "        sp={}\n",
    "        ps={}\n",
    "        ss=s.split()\n",
    "        if len(ss)==len(pattern):\n",
    "            for i in range(len(pattern)):\n",
    "                c1=pattern[i]\n",
    "                c2=ss[i]\n",
    "                if c1 in sp:\n",
    "                    if sp[c1]!=c2:\n",
    "                        return False\n",
    "                else:\n",
    "                    sp[c1]=c2\n",
    "                if c2 in ps:\n",
    "                    if ps[c2]!=c1:\n",
    "                        return False\n",
    "                else:\n",
    "                    ps[c2]=c1\n",
    "            return True"
   ]
  },
  {
   "cell_type": "code",
   "execution_count": 32,
   "id": "a1016ff6",
   "metadata": {},
   "outputs": [],
   "source": [
    "class Solution:\n",
    "    def reverseString(self, s: List[str]) -> None:\n",
    "        \"\"\"\n",
    "        Do not return anything, modify s in-place instead.\n",
    "        \"\"\"\n",
    "        p=[]\n",
    "        end=len(s)-1\n",
    "        for i in range(len(s)):\n",
    "            p.append(s[end-i])\n",
    "        s[:]=p"
   ]
  },
  {
   "cell_type": "code",
   "execution_count": 33,
   "id": "5954634d",
   "metadata": {},
   "outputs": [],
   "source": []
  },
  {
   "cell_type": "code",
   "execution_count": 35,
   "id": "05959e9a",
   "metadata": {},
   "outputs": [],
   "source": []
  },
  {
   "cell_type": "code",
   "execution_count": null,
   "id": "c876095c",
   "metadata": {},
   "outputs": [],
   "source": []
  }
 ],
 "metadata": {
  "kernelspec": {
   "display_name": "Python 3 (ipykernel)",
   "language": "python",
   "name": "python3"
  },
  "language_info": {
   "codemirror_mode": {
    "name": "ipython",
    "version": 3
   },
   "file_extension": ".py",
   "mimetype": "text/x-python",
   "name": "python",
   "nbconvert_exporter": "python",
   "pygments_lexer": "ipython3",
   "version": "3.11.5"
  }
 },
 "nbformat": 4,
 "nbformat_minor": 5
}
