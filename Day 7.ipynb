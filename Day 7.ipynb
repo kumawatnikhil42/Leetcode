{
 "cells": [
  {
   "cell_type": "code",
   "execution_count": 10,
   "id": "5ceb946d",
   "metadata": {},
   "outputs": [],
   "source": [
    "class Solution:\n",
    "    def isPalindrome(self, s: str) -> bool:\n",
    "        c= \"\".join(i.lower() for i in s if i.isalnum()) \n",
    "\n",
    "        if c==c[::-1]:\n",
    "            return True\n",
    "        else:\n",
    "            return False"
   ]
  },
  {
   "cell_type": "code",
   "execution_count": null,
   "id": "acee37f2",
   "metadata": {},
   "outputs": [],
   "source": [
    "class Solution:\n",
    "    def convertToTitle(self, columnNumber: int) -> str:\n",
    "\n",
    "        result=\"\"\n",
    "        while columnNumber>0:\n",
    "            columnNumber -= 1\n",
    "            n = columnNumber%26\n",
    "            result= chr(65+n)+result\n",
    "            columnNumber //=26\n",
    "        return result"
   ]
  },
  {
   "cell_type": "code",
   "execution_count": 52,
   "id": "a11831e6",
   "metadata": {},
   "outputs": [
    {
     "data": {
      "text/plain": [
       "27"
      ]
     },
     "execution_count": 52,
     "metadata": {},
     "output_type": "execute_result"
    }
   ],
   "source": [
    "class Solution:\n",
    "    def titleToNumber(self, columnTitle: str) -> int:\n",
    "        result=0\n",
    "        for i in columnTitle:\n",
    "            num=ord(i)-64\n",
    "            result=result*26+num\n",
    "        return result\n"
   ]
  },
  {
   "cell_type": "code",
   "execution_count": 56,
   "id": "34f3cd7a",
   "metadata": {},
   "outputs": [],
   "source": [
    "class Solution:\n",
    "    def isIsomorphic(self, s: str, t: str) -> bool:\n",
    "        st={}\n",
    "        ts={}\n",
    "        if len(s)==len(t):\n",
    "            for i in range(len(s)):\n",
    "                c1=s[i]\n",
    "                c2=t[i]\n",
    "                if c1 in st:\n",
    "                    if st[c1]!=c2:\n",
    "                        return False   \n",
    "                else:\n",
    "                    st[c1]=c2\n",
    "                if c2 in ts:\n",
    "                    if ts[c2]!=c1:\n",
    "                        return False\n",
    "                else:\n",
    "                    ts[c2]=c1\n",
    "            return True"
   ]
  },
  {
   "cell_type": "code",
   "execution_count": null,
   "id": "f3936e24",
   "metadata": {},
   "outputs": [],
   "source": []
  }
 ],
 "metadata": {
  "kernelspec": {
   "display_name": "Python 3 (ipykernel)",
   "language": "python",
   "name": "python3"
  },
  "language_info": {
   "codemirror_mode": {
    "name": "ipython",
    "version": 3
   },
   "file_extension": ".py",
   "mimetype": "text/x-python",
   "name": "python",
   "nbconvert_exporter": "python",
   "pygments_lexer": "ipython3",
   "version": "3.11.5"
  }
 },
 "nbformat": 4,
 "nbformat_minor": 5
}
