{
 "cells": [
  {
   "cell_type": "code",
   "execution_count": 3,
   "id": "08e284f0",
   "metadata": {},
   "outputs": [
    {
     "name": "stdout",
     "output_type": "stream",
     "text": [
      "False\n"
     ]
    }
   ],
   "source": [
    "class Solution:\n",
    "    def isLongPressedName(self, name: str, typed: str) -> bool:\n",
    "        i,j=0,0\n",
    "        while j<len(typed):\n",
    "            if i<len(name) and name[i]==typed[j]:\n",
    "                i+=1\n",
    "            elif j>0 and typed[j]==typed[j-1]:\n",
    "                pass\n",
    "            else:\n",
    "                return False\n",
    "            j+=1\n",
    "        return i==len(name)"
   ]
  },
  {
   "cell_type": "code",
   "execution_count": 15,
   "id": "2a103c85",
   "metadata": {},
   "outputs": [
    {
     "data": {
      "text/plain": [
       "{'testemail@lee.tcode.com', 'testemail@leetcode.com'}"
      ]
     },
     "execution_count": 15,
     "metadata": {},
     "output_type": "execute_result"
    }
   ],
   "source": [
    "class Solution:\n",
    "    def numUniqueEmails(self, emails: List[str]) -> int:\n",
    "        m=set()\n",
    "        for i in emails:\n",
    "            e,d=i.split(\"@\")\n",
    "            k=\"\"\n",
    "            for j in e:\n",
    "                if j==\".\":\n",
    "                    continue\n",
    "                elif j==\"+\":\n",
    "                    break\n",
    "                else:\n",
    "                    k+=j\n",
    "            m.add(k+\"@\"+d)\n",
    "        return len(m)"
   ]
  }
 ],
 "metadata": {
  "kernelspec": {
   "display_name": "Python 3 (ipykernel)",
   "language": "python",
   "name": "python3"
  },
  "language_info": {
   "codemirror_mode": {
    "name": "ipython",
    "version": 3
   },
   "file_extension": ".py",
   "mimetype": "text/x-python",
   "name": "python",
   "nbconvert_exporter": "python",
   "pygments_lexer": "ipython3",
   "version": "3.11.5"
  }
 },
 "nbformat": 4,
 "nbformat_minor": 5
}
