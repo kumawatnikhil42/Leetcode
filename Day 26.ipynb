{
 "cells": [
  {
   "cell_type": "code",
   "execution_count": 9,
   "id": "3263bbee",
   "metadata": {},
   "outputs": [],
   "source": [
    "class Solution:\n",
    "    def backspaceCompare(self, s: str, t: str) -> bool:\n",
    "        def check(k):\n",
    "            l=[]\n",
    "            for i in k:\n",
    "                if i==\"#\":\n",
    "                    if l: \n",
    "                        l.pop()\n",
    "                else:\n",
    "                    l.append(i)\n",
    "            return \"\".join(l)\n",
    "        return check(s)==check(t)"
   ]
  },
  {
   "cell_type": "code",
   "execution_count": 47,
   "id": "8476314f",
   "metadata": {},
   "outputs": [],
   "source": [
    "class Solution:\n",
    "    def buddyStrings(self, s: str, goal: str) -> bool:\n",
    "        if len(s)!=len(goal):\n",
    "            return False\n",
    "        if s==goal:\n",
    "            k=set()\n",
    "            for i in s:\n",
    "                if i in k:\n",
    "                    return True\n",
    "                k.add(i)\n",
    "            return False\n",
    "\n",
    "        t=[]\n",
    "        for i in range(len(s)):\n",
    "            if s[i]!=goal[i]:\n",
    "                t.append(i)\n",
    "        return len(t)==2 and s[t[0]]==goal[t[1]] and s[t[1]]==goal[t[0]]"
   ]
  },
  {
   "cell_type": "code",
   "execution_count": 90,
   "id": "744c9fb3",
   "metadata": {},
   "outputs": [],
   "source": [
    "class Solution:\n",
    "    def uncommonFromSentences(self, s1: str, s2: str) -> List[str]:\n",
    "        c1=Counter(s1.split())\n",
    "        c2=Counter(s2.split())\n",
    "        t=[]\n",
    "        for i in c1:\n",
    "            if c1[i]==1 and i not in c2:\n",
    "                t.append(i) \n",
    "        for j in c2:\n",
    "            if c2[j]==1 and j not in c1:\n",
    "                t.append(j)\n",
    "        return t "
   ]
  },
  {
   "cell_type": "code",
   "execution_count": 94,
   "id": "243bb1e3",
   "metadata": {},
   "outputs": [],
   "source": [
    "class Solution:\n",
    "    def reverseOnlyLetters(self, s: str) -> str:\n",
    "        l=list(s)\n",
    "        i,j=0,len(l)-1\n",
    "        while i<j:\n",
    "            if not l[i].isalpha():\n",
    "                i+=1\n",
    "            elif not l[j].isalpha():\n",
    "                j-=1\n",
    "            else:\n",
    "                l[i],l[j]=l[j],l[i]\n",
    "                i+=1\n",
    "                j-=1\n",
    "        return \"\".join(l)"
   ]
  },
  {
   "cell_type": "code",
   "execution_count": null,
   "id": "d8c4168e",
   "metadata": {},
   "outputs": [],
   "source": []
  }
 ],
 "metadata": {
  "kernelspec": {
   "display_name": "Python 3 (ipykernel)",
   "language": "python",
   "name": "python3"
  },
  "language_info": {
   "codemirror_mode": {
    "name": "ipython",
    "version": 3
   },
   "file_extension": ".py",
   "mimetype": "text/x-python",
   "name": "python",
   "nbconvert_exporter": "python",
   "pygments_lexer": "ipython3",
   "version": "3.11.5"
  }
 },
 "nbformat": 4,
 "nbformat_minor": 5
}
