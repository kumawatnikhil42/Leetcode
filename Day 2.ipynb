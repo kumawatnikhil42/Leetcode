{
 "cells": [
  {
   "cell_type": "code",
   "execution_count": 15,
   "id": "273ed5a8",
   "metadata": {},
   "outputs": [],
   "source": [
    "class Solution:\n",
    "    def removeDuplicate(self, nums: List[int]) -> int:\n",
    "        num1=[]\n",
    "        for i in nums:\n",
    "            if i not in num1:\n",
    "                num1.append(i)\n",
    "        nums[:] = num1\n",
    "                \n",
    "        return len(nums)\n",
    "    "
   ]
  },
  {
   "cell_type": "code",
   "execution_count": 21,
   "id": "adf96c47",
   "metadata": {},
   "outputs": [
    {
     "name": "stdout",
     "output_type": "stream",
     "text": [
      "[0, 0, 1, 3, 4, 1, 5, 6]\n"
     ]
    }
   ],
   "source": [
    "class Solution:\n",
    "    def removeElement(self, nums: List[int], val: int) -> int:\n",
    "        num1= []\n",
    "        for i in nums:\n",
    "            if i != val:\n",
    "                num1.append(i)\n",
    "        nums[:]=num1\n",
    "        return len(nums)"
   ]
  },
  {
   "cell_type": "code",
   "execution_count": 22,
   "id": "11c13165",
   "metadata": {},
   "outputs": [
    {
     "name": "stdout",
     "output_type": "stream",
     "text": [
      "-1\n"
     ]
    }
   ],
   "source": [
    "class Solution:\n",
    "    def strStr(self, haystack: str, needle: str) -> int:\n",
    "        index=-1\n",
    "        for i in range(len(haystack)-len(needle)+1):\n",
    "            if haystack[i:i+len(needle)] == needle:\n",
    "                index = i\n",
    "                break\n",
    "        return index "
   ]
  },
  {
   "cell_type": "code",
   "execution_count": 25,
   "id": "f9c4e5f6",
   "metadata": {},
   "outputs": [
    {
     "name": "stdout",
     "output_type": "stream",
     "text": [
      "-1\n"
     ]
    }
   ],
   "source": [
    "class Solution:\n",
    "    def searchInsert(self, nums: List[int], target: int) -> int:\n",
    "        for i in range(len(nums)):\n",
    "            if nums[i] == target:\n",
    "                return i\n",
    "\n",
    "            elif nums[i] > target:\n",
    "                return i\n",
    "                \n",
    "        return len(nums)\n",
    "\n",
    "    \n"
   ]
  },
  {
   "cell_type": "code",
   "execution_count": 38,
   "id": "d794e876",
   "metadata": {},
   "outputs": [
    {
     "name": "stdout",
     "output_type": "stream",
     "text": [
      "4\n"
     ]
    }
   ],
   "source": [
    "class Solution:\n",
    "    def lengthOfLastWord(self, s: str) -> int:\n",
    "        se = s.split()\n",
    "        n = len(se)-1\n",
    "        for i in range(len(se)):\n",
    "            return len(se[n])\n",
    "            break   "
   ]
  },
  {
   "cell_type": "code",
   "execution_count": null,
   "id": "81b9c735",
   "metadata": {},
   "outputs": [],
   "source": []
  }
 ],
 "metadata": {
  "kernelspec": {
   "display_name": "Python 3 (ipykernel)",
   "language": "python",
   "name": "python3"
  },
  "language_info": {
   "codemirror_mode": {
    "name": "ipython",
    "version": 3
   },
   "file_extension": ".py",
   "mimetype": "text/x-python",
   "name": "python",
   "nbconvert_exporter": "python",
   "pygments_lexer": "ipython3",
   "version": "3.11.5"
  }
 },
 "nbformat": 4,
 "nbformat_minor": 5
}
