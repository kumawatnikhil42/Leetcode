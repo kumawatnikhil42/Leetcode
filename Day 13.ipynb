{
 "cells": [
  {
   "cell_type": "code",
   "execution_count": 1,
   "id": "e4432e52",
   "metadata": {},
   "outputs": [],
   "source": [
    "class Solution:\n",
    "    def longestPalindrome(self, s: str) -> int:\n",
    "        c = collections.Counter(s)\n",
    "        l = 0\n",
    "        odd = False\n",
    "        for i in c.values():\n",
    "            l += i//2*2\n",
    "            if i%2==1:\n",
    "                odd=True\n",
    "        if odd:\n",
    "            l += 1\n",
    "        return l\n"
   ]
  },
  {
   "cell_type": "code",
   "execution_count": 7,
   "id": "ea755295",
   "metadata": {},
   "outputs": [],
   "source": [
    "class Solution:\n",
    "    def fizzBuzz(self, n: int) -> List[str]:\n",
    "        l=[]\n",
    "        for i in range(1,n+1):\n",
    "            if i%3==0 and i%5==0:\n",
    "                l.append(\"FizzBuzz\")\n",
    "            elif i%3==0:\n",
    "                l.append(\"Fizz\")\n",
    "            elif i%5==0:\n",
    "                l.append(\"Buzz\")\n",
    "            else:\n",
    "                l.append(str(i))\n",
    "        return l"
   ]
  },
  {
   "cell_type": "code",
   "execution_count": 10,
   "id": "0d681594",
   "metadata": {},
   "outputs": [],
   "source": [
    "class Solution:\n",
    "    def addStrings(self, num1: str, num2: str) -> str:\n",
    "        a,b=len(num1)-1,len(num2)-1\n",
    "        l = []\n",
    "        c=0\n",
    "        while a>=0 or b>=0 or c:\n",
    "            x=int(num1[a]) if a>=0 else 0\n",
    "            y=int(num2[b]) if b>=0 else 0\n",
    "            t=x+y+c\n",
    "            c=t//10\n",
    "            l.append(str(t%10))\n",
    "            a-=1\n",
    "            b-=1\n",
    "        return \"\".join(l[::-1])"
   ]
  },
  {
   "cell_type": "code",
   "execution_count": 11,
   "id": "d669cb06",
   "metadata": {},
   "outputs": [],
   "source": [
    "class Solution:\n",
    "    def countSegments(self, s: str) -> int:\n",
    "        l=s.split()\n",
    "        return len(l)"
   ]
  },
  {
   "cell_type": "code",
   "execution_count": 28,
   "id": "074aefd0",
   "metadata": {},
   "outputs": [],
   "source": [
    "class Solution:\n",
    "    def repeatedSubstringPattern(self, s: str) -> bool:\n",
    "        return (s + s).index(s, 1) < len(s)"
   ]
  },
  {
   "cell_type": "code",
   "execution_count": null,
   "id": "3b476c3b",
   "metadata": {},
   "outputs": [],
   "source": []
  }
 ],
 "metadata": {
  "kernelspec": {
   "display_name": "Python 3 (ipykernel)",
   "language": "python",
   "name": "python3"
  },
  "language_info": {
   "codemirror_mode": {
    "name": "ipython",
    "version": 3
   },
   "file_extension": ".py",
   "mimetype": "text/x-python",
   "name": "python",
   "nbconvert_exporter": "python",
   "pygments_lexer": "ipython3",
   "version": "3.11.5"
  }
 },
 "nbformat": 4,
 "nbformat_minor": 5
}
