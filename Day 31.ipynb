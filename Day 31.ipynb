{
 "cells": [
  {
   "cell_type": "code",
   "execution_count": 55,
   "id": "02ab8eaa",
   "metadata": {},
   "outputs": [],
   "source": [
    "class Solution:\n",
    "    def mostCommonWord(self, paragraph: str, banned: List[str]) -> str:\n",
    "        paragraph=paragraph.lower()\n",
    "        d=\"\"\n",
    "        for i in paragraph:\n",
    "            if i.isalpha() or i==\" \":\n",
    "                d+=i\n",
    "            else:\n",
    "                d+=\" \"\n",
    "        l=Counter(d.split())\n",
    "        c=\"\"\n",
    "        h=0\n",
    "        for j,k in l.items():\n",
    "            if j not in banned and k>h:\n",
    "                c=j\n",
    "                h=k\n",
    "        return c"
   ]
  },
  {
   "cell_type": "code",
   "execution_count": 69,
   "id": "67b267ea",
   "metadata": {},
   "outputs": [],
   "source": [
    "class Solution:\n",
    "    def diStringMatch(self, s: str) -> List[int]:\n",
    "        l=0\n",
    "        h=len(s)\n",
    "        k=[]\n",
    "        for i in range(len(s)):\n",
    "            if s[i]==\"I\":\n",
    "                k.append(l)\n",
    "                l+=1\n",
    "            elif s[i]==\"D\":\n",
    "                k.append(h)\n",
    "                h-=1\n",
    "        k.append(l) \n",
    "        return k"
   ]
  },
  {
   "cell_type": "code",
   "execution_count": 111,
   "id": "19641159",
   "metadata": {},
   "outputs": [],
   "source": [
    "class Solution:\n",
    "    def minDeletionSize(self, strs: List[str]) -> int:\n",
    "        k=[]\n",
    "\n",
    "        for i in range(len(strs[0])):\n",
    "            l=\"\"\n",
    "            for j in range(len(strs)): \n",
    "                l+=strs[j][i]\n",
    "            k.append(l) \n",
    "        c=0\n",
    "        for b in k:\n",
    "            if list(b)!=sorted(b):\n",
    "                c+=1\n",
    "        return c"
   ]
  },
  {
   "cell_type": "code",
   "execution_count": 117,
   "id": "b8106dfa",
   "metadata": {},
   "outputs": [
    {
     "data": {
      "text/plain": [
       "['c', 'o']"
      ]
     },
     "execution_count": 117,
     "metadata": {},
     "output_type": "execute_result"
    }
   ],
   "source": [
    "class Solution:\n",
    "    def commonChars(self, words: List[str]) -> List[str]:\n",
    "        l=list(words[0])\n",
    "        for i in words[1:]:\n",
    "            c=[]\n",
    "            for j in l:\n",
    "                if j in i:\n",
    "                    c.append(j)\n",
    "                    i=i.replace(j,\"\",1)\n",
    "            l=c\n",
    "        return l\n",
    "\n",
    "        "
   ]
  }
 ],
 "metadata": {
  "kernelspec": {
   "display_name": "Python 3 (ipykernel)",
   "language": "python",
   "name": "python3"
  },
  "language_info": {
   "codemirror_mode": {
    "name": "ipython",
    "version": 3
   },
   "file_extension": ".py",
   "mimetype": "text/x-python",
   "name": "python",
   "nbconvert_exporter": "python",
   "pygments_lexer": "ipython3",
   "version": "3.11.5"
  }
 },
 "nbformat": 4,
 "nbformat_minor": 5
}
