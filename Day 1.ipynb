{
 "cells": [
  {
   "cell_type": "code",
   "execution_count": null,
   "id": "3747068d",
   "metadata": {},
   "outputs": [],
   "source": [
    "class Solution:\n",
    "    def twoSum(self, nums: List[int], target: int) -> List[int]:\n",
    "        m={}\n",
    "        for i,x in enumerate(nums):\n",
    "            y=target-x\n",
    "            if y in m:\n",
    "                return [m[y],i]\n",
    "            m[x]=i"
   ]
  },
  {
   "cell_type": "code",
   "execution_count": null,
   "id": "acaf642a",
   "metadata": {},
   "outputs": [],
   "source": [
    "class Solution:\n",
    "    def isPalindrome(self, x: int) -> bool:\n",
    "        \n",
    "        s=x\n",
    "        sum1=0\n",
    "        if x >=0:\n",
    "            while x>0:\n",
    "                n=x%10\n",
    "                sum1=(sum1*10)+n\n",
    "                x=x//10\n",
    "            return sum1==s\n",
    "        else:\n",
    "            return False"
   ]
  },
  {
   "cell_type": "code",
   "execution_count": 4,
   "id": "af835703",
   "metadata": {},
   "outputs": [
    {
     "name": "stdout",
     "output_type": "stream",
     "text": [
      "1106\n"
     ]
    }
   ],
   "source": [
    "class Solution:\n",
    "    def romanToInt(self, s: str) -> int:\n",
    "        roman = {'I': 1, 'V': 5, 'X': 10, 'L': 50, 'C': 100, 'D': 500, 'M': 1000}\n",
    "        n = len(s)\n",
    "        num = roman[s[n-1]]\n",
    "\n",
    "        for i in range(n-2,-1,-1):\n",
    "            if roman[s[i]]>=roman[s[i+1]]:\n",
    "                num += roman[s[i]]\n",
    "            else:\n",
    "                num -= roman[s[i]]\n",
    "        return num\n",
    "        "
   ]
  },
  {
   "cell_type": "code",
   "execution_count": 75,
   "id": "625837db",
   "metadata": {},
   "outputs": [
    {
     "name": "stdout",
     "output_type": "stream",
     "text": [
      "True\n"
     ]
    }
   ],
   "source": [
    "class Solution:\n",
    "    def isValid(self, s: str) -> bool:\n",
    "        \n",
    "        new = [] \n",
    "    \n",
    "        for i in s:\n",
    "\n",
    "            if i == \"(\" or i == \"[\" or i == \"{\":\n",
    "                new.append(i)\n",
    "            elif i == \")\" or i == \"]\" or i == \"}\":\n",
    "                if not new:\n",
    "                    return False\n",
    "                elif i == \")\" and new[-1] == \"(\":\n",
    "                    new.pop()\n",
    "                elif i == \"]\" and new[-1] == \"[\":\n",
    "                    new.pop()\n",
    "                elif i == \"}\" and new[-1] == \"{\":\n",
    "                    new.pop()\n",
    "                else:\n",
    "                    return False   \n",
    "        return len(new) == 0"
   ]
  },
  {
   "cell_type": "code",
   "execution_count": null,
   "id": "d6d6e0bf",
   "metadata": {},
   "outputs": [],
   "source": []
  }
 ],
 "metadata": {
  "kernelspec": {
   "display_name": "Python 3 (ipykernel)",
   "language": "python",
   "name": "python3"
  },
  "language_info": {
   "codemirror_mode": {
    "name": "ipython",
    "version": 3
   },
   "file_extension": ".py",
   "mimetype": "text/x-python",
   "name": "python",
   "nbconvert_exporter": "python",
   "pygments_lexer": "ipython3",
   "version": "3.11.5"
  }
 },
 "nbformat": 4,
 "nbformat_minor": 5
}
