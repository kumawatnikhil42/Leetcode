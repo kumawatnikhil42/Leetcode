{
 "cells": [
  {
   "cell_type": "code",
   "execution_count": 34,
   "id": "3bdf3f4a",
   "metadata": {},
   "outputs": [],
   "source": [
    "class Solution:\n",
    "    def toGoatLatin(self, sentence: str) -> str:\n",
    "        l=sentence.split()\n",
    "        k=[]\n",
    "        for i,j in enumerate(l):\n",
    "            if j[0].lower() in (\"a\",\"e\",\"i\",\"o\",\"u\"):\n",
    "                k.append(j+\"ma\"+(i+1)*\"a\")\n",
    "                \n",
    "            if j[0].lower() not in (\"a\",\"e\",\"i\",\"o\",\"u\"):\n",
    "                k.append(j[1:]+j[0]+\"ma\"+(i+1)*\"a\")\n",
    "\n",
    "        return \" \".join(k)"
   ]
  },
  {
   "cell_type": "code",
   "execution_count": 51,
   "id": "11b2dfa0",
   "metadata": {},
   "outputs": [],
   "source": [
    "class Solution:\n",
    "    def largeGroupPositions(self, s: str) -> List[List[int]]:\n",
    "        r=[]\n",
    "        n=len(s)\n",
    "        i=0\n",
    "        while i<n:\n",
    "            j=i\n",
    "            while j<n and s[j]==s[i]:\n",
    "                j+=1\n",
    "            if j-i>=3:\n",
    "                r.append([i,j-1])\n",
    "            i=j\n",
    "        return r\n"
   ]
  }
 ],
 "metadata": {
  "kernelspec": {
   "display_name": "Python 3 (ipykernel)",
   "language": "python",
   "name": "python3"
  },
  "language_info": {
   "codemirror_mode": {
    "name": "ipython",
    "version": 3
   },
   "file_extension": ".py",
   "mimetype": "text/x-python",
   "name": "python",
   "nbconvert_exporter": "python",
   "pygments_lexer": "ipython3",
   "version": "3.11.5"
  }
 },
 "nbformat": 4,
 "nbformat_minor": 5
}
