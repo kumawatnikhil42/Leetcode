{
 "cells": [
  {
   "cell_type": "code",
   "execution_count": 46,
   "id": "cccf0f61",
   "metadata": {},
   "outputs": [],
   "source": [
    "class Solution:\n",
    "    def plusOne(self, digits: List[int]) -> List[int]:\n",
    "        new = int(\"\".join(map(str,digits)))\n",
    "        new+=1\n",
    "        digits = [int(i) for i in str(new)]\n",
    "        return digits"
   ]
  },
  {
   "cell_type": "code",
   "execution_count": 69,
   "id": "a4055b40",
   "metadata": {},
   "outputs": [],
   "source": [
    "class Solution:\n",
    "    def addBinary(self, a: str, b: str) -> str:\n",
    "        n = int(a,2)+int(b,2)   #int(s,j) : s to change,j base 2 means binary\n",
    "        k = bin(n)\n",
    "        return k[2:]"
   ]
  },
  {
   "cell_type": "code",
   "execution_count": 90,
   "id": "f5bbf3e8",
   "metadata": {},
   "outputs": [],
   "source": [
    "class Solution:\n",
    "    def mySqrt(self, x: int) -> int:\n",
    "        if x < 2:\n",
    "            return x\n",
    "        num = 1\n",
    "        while num * num <= x:\n",
    "            num += 1\n",
    "        return num - 1  "
   ]
  },
  {
   "cell_type": "code",
   "execution_count": 86,
   "id": "250a5ecd",
   "metadata": {},
   "outputs": [
    {
     "data": {
      "text/plain": [
       "4"
      ]
     },
     "execution_count": 86,
     "metadata": {},
     "output_type": "execute_result"
    }
   ],
   "source": [
    "class Solution:\n",
    "    def climbStairs(self, n: int) -> int:\n",
    "        if n==1:\n",
    "            return 1\n",
    "        a=1\n",
    "        b=1\n",
    "        for i in range(2,n+1):\n",
    "            c=a+b\n",
    "            a=b\n",
    "            b=c\n",
    "\n",
    "        return b  "
   ]
  }
 ],
 "metadata": {
  "kernelspec": {
   "display_name": "Python 3 (ipykernel)",
   "language": "python",
   "name": "python3"
  },
  "language_info": {
   "codemirror_mode": {
    "name": "ipython",
    "version": 3
   },
   "file_extension": ".py",
   "mimetype": "text/x-python",
   "name": "python",
   "nbconvert_exporter": "python",
   "pygments_lexer": "ipython3",
   "version": "3.11.5"
  }
 },
 "nbformat": 4,
 "nbformat_minor": 5
}
