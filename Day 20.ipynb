{
 "cells": [
  {
   "cell_type": "code",
   "execution_count": 64,
   "id": "2b345c54",
   "metadata": {},
   "outputs": [],
   "source": [
    "class Solution:\n",
    "    def countConsistentStrings(self, allowed: str, words: List[str]) -> int:\n",
    "        c=0\n",
    "        for i in words:\n",
    "            k=True\n",
    "            for j in i:\n",
    "                if j not in allowed:\n",
    "                    k=False\n",
    "                    break\n",
    "            if k:\n",
    "                c+=1\n",
    "        return c\n"
   ]
  },
  {
   "cell_type": "code",
   "execution_count": 70,
   "id": "e6a747f5",
   "metadata": {},
   "outputs": [],
   "source": [
    "class Solution:\n",
    "    def convertDateToBinary(self, date: str) -> str:\n",
    "        y,m,d=map(int,date.split(\"-\"))\n",
    "        by=format(y,\"b\")\n",
    "        bm=format(m,\"b\")\n",
    "        bd=format(d,\"b\")\n",
    "        return \"-\".join([by,bm,bd])"
   ]
  },
  {
   "cell_type": "code",
   "execution_count": 71,
   "id": "b74707b8",
   "metadata": {},
   "outputs": [],
   "source": [
    "class Solution:\n",
    "    def checkTwoChessboards(self, coordinate1: str, coordinate2: str) -> bool:\n",
    "        c1=ord(coordinate1[0])-ord('a')+1\n",
    "        c2=ord(coordinate2[0])-ord('a')+1\n",
    "        r1=int(coordinate1[1])\n",
    "        r2=int(coordinate2[1])\n",
    "        m1=(c1+r1)%2\n",
    "        m2=(c2+r2)%2\n",
    "        return m1==m2"
   ]
  },
  {
   "cell_type": "code",
   "execution_count": 72,
   "id": "412027db",
   "metadata": {},
   "outputs": [],
   "source": [
    "class Solution:\n",
    "    def countKConstraintSubstrings(self, s: str, k: int) -> int:\n",
    "       \n",
    "        d=0\n",
    "        for i in range(len(s)):\n",
    "            c0=0\n",
    "            c1=0\n",
    "            for j in range(i,len(s)):\n",
    "                if s[j]==\"0\":\n",
    "                    c0+=1\n",
    "                else:\n",
    "                    c1+=1\n",
    "                if c1>k and c0>k:\n",
    "                    break\n",
    "                d+=1\n",
    "        return d"
   ]
  }
 ],
 "metadata": {
  "kernelspec": {
   "display_name": "Python 3 (ipykernel)",
   "language": "python",
   "name": "python3"
  },
  "language_info": {
   "codemirror_mode": {
    "name": "ipython",
    "version": 3
   },
   "file_extension": ".py",
   "mimetype": "text/x-python",
   "name": "python",
   "nbconvert_exporter": "python",
   "pygments_lexer": "ipython3",
   "version": "3.11.5"
  }
 },
 "nbformat": 4,
 "nbformat_minor": 5
}
