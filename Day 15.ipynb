{
 "cells": [
  {
   "cell_type": "code",
   "execution_count": 1,
   "id": "1eb2932b",
   "metadata": {},
   "outputs": [],
   "source": [
    "class Solution:\n",
    "    def reverseStr(self, s: str, k: int) -> str:\n",
    "        l=list(s)\n",
    "        for i in range(0,len(s),2*k):\n",
    "            l[i:i+k]=reversed(s[i:i+k])\n",
    "        return \"\".join(l)\n",
    "    \n",
    "    "
   ]
  },
  {
   "cell_type": "code",
   "execution_count": 16,
   "id": "9461c188",
   "metadata": {},
   "outputs": [],
   "source": [
    "class Solution:\n",
    "    def checkRecord(self, s: str) -> bool:\n",
    "        c=Counter(s)\n",
    "\n",
    "        if c[\"A\"]>=2:\n",
    "            return False\n",
    "            \n",
    "        for i in range(len(s)-2):\n",
    "\n",
    "            if s[i]==\"L\" and s[i-1]==\"L\" and s[i+2]==\"L\":\n",
    "                return False\n",
    "        return True\n",
    "    "
   ]
  },
  {
   "cell_type": "code",
   "execution_count": 51,
   "id": "90c2a13d",
   "metadata": {},
   "outputs": [],
   "source": [
    "class Solution:\n",
    "    def reverseWords(self, s: str) -> str:\n",
    "        l=s.split()\n",
    "        c=[]\n",
    "        for i in range(len(l)):\n",
    "            c.append(\"\".join(reversed(l[i])))\n",
    "    \n",
    "        return \" \".join(c)"
   ]
  },
  {
   "cell_type": "code",
   "execution_count": 56,
   "id": "5d067897",
   "metadata": {},
   "outputs": [],
   "source": [
    "class Solution:\n",
    "    def judgeCircle(self, moves: str) -> bool:\n",
    "        x=0\n",
    "        y=0\n",
    "        for i in moves:\n",
    "            if i==\"U\":\n",
    "                x+=1\n",
    "            elif i==\"L\":\n",
    "                y+=1\n",
    "            elif i==\"D\":\n",
    "                x-=1\n",
    "            elif i==\"R\":\n",
    "                y-=1\n",
    "        if x==0 and y==0:\n",
    "            return True "
   ]
  },
  {
   "cell_type": "code",
   "execution_count": null,
   "id": "d2d3dd61",
   "metadata": {},
   "outputs": [],
   "source": []
  }
 ],
 "metadata": {
  "kernelspec": {
   "display_name": "Python 3 (ipykernel)",
   "language": "python",
   "name": "python3"
  },
  "language_info": {
   "codemirror_mode": {
    "name": "ipython",
    "version": 3
   },
   "file_extension": ".py",
   "mimetype": "text/x-python",
   "name": "python",
   "nbconvert_exporter": "python",
   "pygments_lexer": "ipython3",
   "version": "3.11.5"
  }
 },
 "nbformat": 4,
 "nbformat_minor": 5
}
