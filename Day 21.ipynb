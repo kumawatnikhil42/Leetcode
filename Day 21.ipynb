{
 "cells": [
  {
   "cell_type": "code",
   "execution_count": 6,
   "id": "ead0c132",
   "metadata": {},
   "outputs": [],
   "source": [
    "class Solution:\n",
    "    def numJewelsInStones(self, jewels: str, stones: str) -> int:\n",
    "        l=0\n",
    "\n",
    "        for i in stones:\n",
    "            if i in jewels:\n",
    "                l+=1\n",
    "        return l"
   ]
  },
  {
   "cell_type": "code",
   "execution_count": 13,
   "id": "b84d495d",
   "metadata": {},
   "outputs": [],
   "source": [
    "class Solution:\n",
    "    def rotateString(self, s: str, goal: str) -> bool:\n",
    "        for i in range(len(goal)):\n",
    "            if s[i:]+s[:i] == goal:\n",
    "                return True"
   ]
  },
  {
   "cell_type": "code",
   "execution_count": 50,
   "id": "c6537a2e",
   "metadata": {},
   "outputs": [],
   "source": [
    "class Solution:\n",
    "    def uniqueMorseRepresentations(self, words: List[str]) -> int:\n",
    "        s=set()\n",
    "        k=[\".-\",\"-...\",\"-.-.\",\"-..\",\".\",\"..-.\",\"--.\",\"....\",\"..\",\".---\",\"-.-\",\".-..\",\"--\",\"-.\",\"---\",\".--.\",\"--.-\",\".-.\",\"...\",\"-\",\"..-\",\"...-\",\".--\",\"-..-\",\"-.--\",\"--..\"]\n",
    "\n",
    "        for i in words:\n",
    "            c=\"\"\n",
    "            for j in i:\n",
    "                c+=k[ord(j)-ord(\"a\")]\n",
    "            s.add(c)\n",
    "        return len(s)"
   ]
  },
  {
   "cell_type": "code",
   "execution_count": 60,
   "id": "7b0cdd51",
   "metadata": {},
   "outputs": [
    {
     "data": {
      "text/plain": [
       "[3, 60]"
      ]
     },
     "execution_count": 60,
     "metadata": {},
     "output_type": "execute_result"
    }
   ],
   "source": [
    "class Solution:\n",
    "    def numberOfLines(self, widths: List[int], s: str) -> List[int]:\n",
    "        l=1\n",
    "        w=0\n",
    "        for i in s:\n",
    "            c=widths[ord(i)-ord(\"a\")]\n",
    "            if w+c>100:\n",
    "                l+=1\n",
    "                w=c\n",
    "            else:\n",
    "                w+=c\n",
    "        return [l,w] "
   ]
  },
  {
   "cell_type": "code",
   "execution_count": null,
   "id": "f99f51ef",
   "metadata": {},
   "outputs": [],
   "source": []
  },
  {
   "cell_type": "code",
   "execution_count": null,
   "id": "00a5aeba",
   "metadata": {},
   "outputs": [],
   "source": []
  }
 ],
 "metadata": {
  "kernelspec": {
   "display_name": "Python 3 (ipykernel)",
   "language": "python",
   "name": "python3"
  },
  "language_info": {
   "codemirror_mode": {
    "name": "ipython",
    "version": 3
   },
   "file_extension": ".py",
   "mimetype": "text/x-python",
   "name": "python",
   "nbconvert_exporter": "python",
   "pygments_lexer": "ipython3",
   "version": "3.11.5"
  }
 },
 "nbformat": 4,
 "nbformat_minor": 5
}
