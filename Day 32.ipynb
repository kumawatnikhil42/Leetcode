{
 "cells": [
  {
   "cell_type": "code",
   "execution_count": 15,
   "id": "2ec3533a",
   "metadata": {},
   "outputs": [],
   "source": [
    "class Solution:\n",
    "    def removeOuterParentheses(self, s: str) -> str:\n",
    "        k=[]\n",
    "        o=0\n",
    "        for i in s:\n",
    "            if i==\"(\":\n",
    "                if o>0:\n",
    "                    k.append(i)\n",
    "                o+=1\n",
    "            elif i==\")\":\n",
    "                o-=1\n",
    "                if o>0:\n",
    "                    k.append(i)\n",
    "           \n",
    "        return \"\".join(k)"
   ]
  },
  {
   "cell_type": "code",
   "execution_count": 37,
   "id": "15344773",
   "metadata": {},
   "outputs": [],
   "source": [
    "class Solution:\n",
    "    def removeDuplicates(self, s: str) -> str:\n",
    "        l=[]\n",
    "\n",
    "        for i in s:\n",
    "            if l and l[-1] ==i:\n",
    "                l.pop()\n",
    "            else:\n",
    "                l.append(i)\n",
    "\n",
    "    \n",
    "        return\"\".join(l)\n",
    "\n",
    "  \n",
    "    "
   ]
  },
  {
   "cell_type": "code",
   "execution_count": 61,
   "id": "72d0f859",
   "metadata": {},
   "outputs": [],
   "source": [
    "class Solution:\n",
    "    def gcdOfStrings(self, str1: str, str2: str) -> str:\n",
    "        def same(a,b):\n",
    "            c=\"\"\n",
    "            while len(c)<len(b):\n",
    "                c+=a\n",
    "            return c==b\n",
    "        n=min(len(str1),len(str2))\n",
    "        for i in range(n,0,-1):\n",
    "            t=str1[:i]\n",
    "            if same(t,str1) and same(t,str2):\n",
    "                return t \n",
    "        return \"\""
   ]
  },
  {
   "cell_type": "code",
   "execution_count": 75,
   "id": "3ad72316",
   "metadata": {},
   "outputs": [],
   "source": [
    "class Solution:\n",
    "    def findOcurrences(self, text: str, first: str, second: str) -> List[str]:\n",
    "        k=text.split()\n",
    "        l=[]\n",
    "        for i in range(2,len(k)):\n",
    "            if k[i-1]==second and k[i-2]==first:\n",
    "                    l.append(k[i])\n",
    "        return l"
   ]
  },
  {
   "cell_type": "code",
   "execution_count": null,
   "id": "e3054ca9",
   "metadata": {},
   "outputs": [],
   "source": []
  }
 ],
 "metadata": {
  "kernelspec": {
   "display_name": "Python 3 (ipykernel)",
   "language": "python",
   "name": "python3"
  },
  "language_info": {
   "codemirror_mode": {
    "name": "ipython",
    "version": 3
   },
   "file_extension": ".py",
   "mimetype": "text/x-python",
   "name": "python",
   "nbconvert_exporter": "python",
   "pygments_lexer": "ipython3",
   "version": "3.11.5"
  }
 },
 "nbformat": 4,
 "nbformat_minor": 5
}
